{
 "cells": [
  {
   "cell_type": "code",
   "execution_count": 64,
   "metadata": {
    "id": "FX6rILupJ5lH"
   },
   "outputs": [],
   "source": [
    "%reset -f\n",
    "import math\n",
    "import statistics\n",
    "import numpy as np\n",
    "import pandas as pd\n",
    "import matplotlib.pyplot as plt\n",
    "import seaborn as sns\n",
    "import random\n",
    "import csv\n",
    "\n",
    "rng = np.random.default_rng()"
   ]
  },
  {
   "cell_type": "code",
   "execution_count": 78,
   "metadata": {},
   "outputs": [
    {
     "ename": "SyntaxError",
     "evalue": "leading zeros in decimal integer literals are not permitted; use an 0o prefix for octal integers (3755611638.py, line 3)",
     "output_type": "error",
     "traceback": [
      "\u001b[1;36m  Input \u001b[1;32mIn [78]\u001b[1;36m\u001b[0m\n\u001b[1;33m    https://d6xcmfyh68wv8.cloudfront.net/learn-content/uploads/2022/06/shutterstock_544579708-770x515.jpg\u001b[0m\n\u001b[1;37m                                                                    ^\u001b[0m\n\u001b[1;31mSyntaxError\u001b[0m\u001b[1;31m:\u001b[0m leading zeros in decimal integer literals are not permitted; use an 0o prefix for octal integers\n"
     ]
    }
   ],
   "source": [
    "# An Investigation into the Factors which Impact Salary in Ireland\n",
    "\n",
    "https://d6xcmfyh68wv8.cloudfront.net/learn-content/uploads/2022/06/shutterstock_544579708-770x515.jpg\n",
    "    "
   ]
  },
  {
   "cell_type": "markdown",
   "metadata": {},
   "source": [
    "# Question\n",
    "\n",
    "Choose a real-world phenomenon that can be measured and for which you could\n",
    "collect at least one-hundred data points across at least four different variables.\n",
    "\n",
    "Investigate the types of variables involved, their likely distributions, and their\n",
    "relationships with each other.\n",
    "\n",
    "Synthesise/simulate a data set as closely matching their properties as possible.\n",
    "\n",
    "Detail your research and implement the simulation in a Jupyter notebook – the\n",
    "data set itself can simply be displayed in an output cell within the notebook."
   ]
  },
  {
   "cell_type": "markdown",
   "metadata": {},
   "source": [
    "## Project Aim\n",
    "\n",
    "The aim of this project is to demonstrate the effects of outside factors on salary in Ireland. The factors: Age, Level of Education, Gender, Ethnicity will be researched and used to synthesize the data. The information will be synthesized, analysed and displayed using Python functions, such as Numpy, Pandas and Matplotlib."
   ]
  },
  {
   "cell_type": "markdown",
   "metadata": {},
   "source": [
    "### Age\n",
    "\n",
    "\n",
    "I picked several ranges of ages, not including those over 64, as people were less educated at all levels in the past in Ireland.  I also excluded those under 20, as they would not have had the opportunity yet to obtain higher levels of education.  \n",
    "\n",
    "https://www.cso.ie/en/releasesandpublications/ep/p-cp10esil/p10esil/le/"
   ]
  },
  {
   "cell_type": "markdown",
   "metadata": {
    "id": "IbMrlpdsWi73"
   },
   "source": [
    "# Prepare Data"
   ]
  },
  {
   "cell_type": "markdown",
   "metadata": {
    "id": "-_UknK0nQk0l"
   },
   "source": [
    "## Age"
   ]
  },
  {
   "cell_type": "code",
   "execution_count": 65,
   "metadata": {
    "colab": {
     "base_uri": "https://localhost:8080/",
     "height": 200
    },
    "id": "jrcmOLmBKK6r",
    "outputId": "74434134-f23c-4103-e2f1-630ab927a4d5"
   },
   "outputs": [],
   "source": [
    "# Age\n",
    "\n",
    "# Print 100 Random Samples of different age brackets\n",
    "# AgeA = 20 - 24\n",
    "# AgeB = 25 - 29\n",
    "# AgeC = 30 - 34\n",
    "# AgeD = 35- 39\n",
    "# AgeE = 40 - 44\n",
    "# AgeF = 45 - 49\n",
    "# AgeG = 50 - 54\n",
    "# AgeH = 55 - 59\n",
    "# AgeI = 60 - 64\n",
    "\n",
    "\n",
    "Age = ['AgeA', 'AgeB,', 'AgeC', 'AgeD', 'AgeE', 'AgeF', 'AgeG', 'AgeH,', 'AgeI', 'AgeJ']\n",
    "df = pd.DataFrame(rng.choice(Age, size = 100), columns=['Age'])"
   ]
  },
  {
   "cell_type": "markdown",
   "metadata": {
    "id": "BjEPw853QmDy"
   },
   "source": [
    "## Education\n",
    "\n",
    "I decided on dividing the levels of education up into:  No Education, Secondary, Higher Certificate, Degree and Postgraduate.\n",
    "This was based on information from the Central Statistics Office.  \n",
    "\n",
    "https://www.cso.ie/en/releasesandpublications/ep/p-gpii/geographicalprofilesofincomeinireland2016/education/"
   ]
  },
  {
   "cell_type": "code",
   "execution_count": 66,
   "metadata": {
    "id": "XhKFGNHUKUeM"
   },
   "outputs": [],
   "source": [
    "Education = []\n",
    "opt = ['NoEd', 'Second', 'HC', 'Deg', 'PG']\n",
    "\n",
    "for i in df['Age']:\n",
    "  if i == 'AgeA':\n",
    "      [i] = rng.choice((opt), 1, p = (0.042, 0.552, 0.112, 0.252, 0.042))\n",
    "  \n",
    "  elif i == 'AgeB':\n",
    "      [i] = rng.choice((opt), 1, p = (0.03, 0.38, 0.13, 0.32, 0.14)) \n",
    "  \n",
    "  elif i == 'AgeC':\n",
    "      [i] = rng.choice((opt), 1, p = (0.04, 0.35, 0.15, 0.29, 0.17))\n",
    "  \n",
    "  elif i == 'AgeD':\n",
    "      [i] = rng.choice((opt), 1, p = (0.04, 0.37, 0.15, 0.27, 0.17))\n",
    "  \n",
    "  elif i == 'AgeE':\n",
    "      [i] = rng.choice((opt), 1, p = (0.048, 0.418, 0.148, 0.238, 0.148))\n",
    "  \n",
    "  elif i == 'AgeF':\n",
    "      [i] = rng.choice((opt), 1, p = (0.06, 0.49, 0.14, 0.19, 0.12))\n",
    "  \n",
    "  elif i == 'AgeG':\n",
    "      [i] = rng.choice((opt), 1, p = (0.078, 0.528, 0.128, 0.168, 0.098))\n",
    "  \n",
    "  elif i == 'AgeH':\n",
    "      [i] = rng.choice((opt), 1, p = (0.122, 0.542, 0.112, 0.142, 0.082)) \n",
    "  \n",
    "  elif i == 'AgeI':\n",
    "      [i] = rng.choice((opt), 1, p = (0.208, 0.508, 0.088, 0.128, 0.068))\n",
    "  \n",
    "  elif i == 'AgeJ':\n",
    "      [i] = rng.choice((opt), 1, p = (0.33, 0.44, 0.07, 0.10, 0.06))\n",
    "      \n",
    "  Education.append(i)\n",
    "    \n",
    "df['Education'] = Education"
   ]
  },
  {
   "cell_type": "markdown",
   "metadata": {
    "id": "4pRql6s1QpK-"
   },
   "source": [
    "### Average Wage Based on Level of Education\n",
    "\n",
    "\n",
    "https://www.cso.ie/en/releasesandpublications/ep/p-gpii/geographicalprofilesofincomeinireland2016/education/\n",
    "\n",
    "I took the average male and female figures from the Central Statistics Office, combined the two and got the mean.  \n",
    "    \n",
    "No Education - €14158\n",
    "\n",
    "Secondary (Listed as Upper Secondary in Reference) - €20154\n",
    "\n",
    "Higher Certificate  - €27568\n",
    "\n",
    "Diploma (Listed as Honours Degree in Reference) - €39370\n",
    "\n",
    "Post Graduate (Listed as MA and PHD Combined in Reference) - €55024"
   ]
  },
  {
   "cell_type": "markdown",
   "metadata": {},
   "source": [
    "#### Range\n",
    "\n",
    "Based on findings stating that salaries ranged from €734 to €477 per week (with Trinity as highest and Letterkenny IT as lowest) this shows a range variance of €14404 per year.  I decided to take this as a loose model for standard deviation of salaries in their respective groups.  Range = 1404, Standard Deviation = 7000.\n",
    "\n",
    "https://www.joe.ie/news/college-graduate-salary-ireland-2021-new-study-732019\n",
    "\n",
    "\n",
    "In doing research on the range of salaries across different levels of education, I realised that this could really come to any amount.  With people’s life situations and a multitude of various factors taken into account I made an educated guess based on the resource above to move forward with the project. I realise the limitations of the accuracy of this approach."
   ]
  },
  {
   "cell_type": "code",
   "execution_count": 67,
   "metadata": {
    "id": "szW3G4n5N1U2"
   },
   "outputs": [],
   "source": [
    "AvEdWage = []\n",
    "\n",
    "for i in np.arange(df.shape[0]):\n",
    "  tmp = df['Education'][i]\n",
    "\n",
    "  if tmp == 'NoEd':\n",
    "    wage = rng.normal(14158, 7000, 1)\n",
    "      \n",
    "  elif tmp == 'Second':\n",
    "      wage = rng.normal(20154, 7000, 1)\n",
    "      \n",
    "  elif tmp == 'HC':\n",
    "      wage = rng.normal(27568, 7000, 1)\n",
    "      \n",
    "  elif tmp == 'Deg':\n",
    "      wage = rng.normal(39370, 7000, 1)\n",
    "      \n",
    "  elif tmp == 'PG':\n",
    "      wage = rng.normal(55024, 7000, 1)\n",
    "      \n",
    "  AvEdWage.append(wage[0])\n",
    "    \n",
    "df['Avg Wage'] = AvEdWage"
   ]
  },
  {
   "cell_type": "markdown",
   "metadata": {
    "id": "lze_cc4IQtvt"
   },
   "source": [
    "### Gender\n",
    "\n",
    "On average Males earn 14% more than Females in Ireland. \n",
    "\n",
    "https://www.cipd.ie/news-resources/practical-guidance/employment-law/factsheets/gender-pay-gap-information-act-regulations#gref\n"
   ]
  },
  {
   "cell_type": "code",
   "execution_count": 68,
   "metadata": {
    "id": "Vnui1fcGQWxp"
   },
   "outputs": [],
   "source": [
    "# Average Salary by Gender in Ireland \n",
    "# Males earn 14% more on average\n",
    "# In the code I will icrease the male salaries by 7% \n",
    "# and decrease the female salaries by 7% to re-create these figures.\n",
    "\n",
    "# Gender - Create Empty Array\n",
    "df['Gender'] = np.array(rng.choice(['Male', 'Female'], 100, p=(.50, .50)))\n",
    "w = [1.07, 0.93]\n",
    "df['Gender Pay Gap'] = np.where(df['Gender'] == 'Male', w[0]*df['Avg Wage'], w[1]*df['Avg Wage'])"
   ]
  },
  {
   "cell_type": "markdown",
   "metadata": {
    "id": "22xgpDYFTXct"
   },
   "source": [
    "## Ethnicity\n",
    "\n",
    "The mean Ethnicity Pay Gap in Ireland is - 5.07%, meaning people of an Ethnic Minority earn 5.07% less on average.\n",
    "\n",
    "https://seetec.ie/legal/ethnicity-pay-gap-report/\n",
    "\n",
    "82% of the population of Ireland is part the Ethnic Majority (White Irish) and 18% makes up the Ethnic Minorities.\n",
    "\n",
    "https://minorityrights.org/country/ireland/"
   ]
  },
  {
   "cell_type": "code",
   "execution_count": 69,
   "metadata": {
    "id": "-JSlA0SRJzVZ"
   },
   "outputs": [],
   "source": [
    "# Ethnicity - Create Empty Array\n",
    "\n",
    "df['Ethnicity'] = np.array(rng.choice(['Majority', 'Minority'], 100, p=(.82, .18)))\n",
    "w = [1, 0.95]\n",
    "df['Ethnicity Pay Gap'] = np.where(df['Ethnicity'] == 'Majority', w[0]*df['Avg Wage'], w[1]*df['Avg Wage'])"
   ]
  },
  {
   "cell_type": "markdown",
   "metadata": {
    "id": "OmGNdp80WZaH"
   },
   "source": [
    "# Data Analysis"
   ]
  },
  {
   "cell_type": "code",
   "execution_count": 70,
   "metadata": {
    "colab": {
     "base_uri": "https://localhost:8080/",
     "height": 424
    },
    "id": "UdisriKuXu40",
    "outputId": "523a98d2-1bc7-4631-cc98-7f1e1a142624"
   },
   "outputs": [
    {
     "data": {
      "text/html": [
       "<div>\n",
       "<style scoped>\n",
       "    .dataframe tbody tr th:only-of-type {\n",
       "        vertical-align: middle;\n",
       "    }\n",
       "\n",
       "    .dataframe tbody tr th {\n",
       "        vertical-align: top;\n",
       "    }\n",
       "\n",
       "    .dataframe thead th {\n",
       "        text-align: right;\n",
       "    }\n",
       "</style>\n",
       "<table border=\"1\" class=\"dataframe\">\n",
       "  <thead>\n",
       "    <tr style=\"text-align: right;\">\n",
       "      <th></th>\n",
       "      <th>Age</th>\n",
       "      <th>Education</th>\n",
       "      <th>Avg Wage</th>\n",
       "      <th>Gender</th>\n",
       "      <th>Gender Pay Gap</th>\n",
       "      <th>Ethnicity</th>\n",
       "      <th>Ethnicity Pay Gap</th>\n",
       "    </tr>\n",
       "  </thead>\n",
       "  <tbody>\n",
       "    <tr>\n",
       "      <th>0</th>\n",
       "      <td>AgeE</td>\n",
       "      <td>Second</td>\n",
       "      <td>26417.289204</td>\n",
       "      <td>Female</td>\n",
       "      <td>24568.078960</td>\n",
       "      <td>Majority</td>\n",
       "      <td>26417.289204</td>\n",
       "    </tr>\n",
       "    <tr>\n",
       "      <th>1</th>\n",
       "      <td>AgeF</td>\n",
       "      <td>Deg</td>\n",
       "      <td>43174.547319</td>\n",
       "      <td>Female</td>\n",
       "      <td>40152.329007</td>\n",
       "      <td>Majority</td>\n",
       "      <td>43174.547319</td>\n",
       "    </tr>\n",
       "    <tr>\n",
       "      <th>2</th>\n",
       "      <td>AgeH,</td>\n",
       "      <td>AgeH,</td>\n",
       "      <td>43174.547319</td>\n",
       "      <td>Male</td>\n",
       "      <td>46196.765632</td>\n",
       "      <td>Majority</td>\n",
       "      <td>43174.547319</td>\n",
       "    </tr>\n",
       "    <tr>\n",
       "      <th>3</th>\n",
       "      <td>AgeA</td>\n",
       "      <td>Second</td>\n",
       "      <td>33279.675950</td>\n",
       "      <td>Male</td>\n",
       "      <td>35609.253267</td>\n",
       "      <td>Majority</td>\n",
       "      <td>33279.675950</td>\n",
       "    </tr>\n",
       "    <tr>\n",
       "      <th>4</th>\n",
       "      <td>AgeH,</td>\n",
       "      <td>AgeH,</td>\n",
       "      <td>33279.675950</td>\n",
       "      <td>Male</td>\n",
       "      <td>35609.253267</td>\n",
       "      <td>Majority</td>\n",
       "      <td>33279.675950</td>\n",
       "    </tr>\n",
       "    <tr>\n",
       "      <th>...</th>\n",
       "      <td>...</td>\n",
       "      <td>...</td>\n",
       "      <td>...</td>\n",
       "      <td>...</td>\n",
       "      <td>...</td>\n",
       "      <td>...</td>\n",
       "      <td>...</td>\n",
       "    </tr>\n",
       "    <tr>\n",
       "      <th>95</th>\n",
       "      <td>AgeI</td>\n",
       "      <td>HC</td>\n",
       "      <td>29839.127619</td>\n",
       "      <td>Male</td>\n",
       "      <td>31927.866553</td>\n",
       "      <td>Majority</td>\n",
       "      <td>29839.127619</td>\n",
       "    </tr>\n",
       "    <tr>\n",
       "      <th>96</th>\n",
       "      <td>AgeD</td>\n",
       "      <td>Second</td>\n",
       "      <td>19650.292525</td>\n",
       "      <td>Female</td>\n",
       "      <td>18274.772048</td>\n",
       "      <td>Majority</td>\n",
       "      <td>19650.292525</td>\n",
       "    </tr>\n",
       "    <tr>\n",
       "      <th>97</th>\n",
       "      <td>AgeB,</td>\n",
       "      <td>AgeB,</td>\n",
       "      <td>19650.292525</td>\n",
       "      <td>Female</td>\n",
       "      <td>18274.772048</td>\n",
       "      <td>Majority</td>\n",
       "      <td>19650.292525</td>\n",
       "    </tr>\n",
       "    <tr>\n",
       "      <th>98</th>\n",
       "      <td>AgeA</td>\n",
       "      <td>Deg</td>\n",
       "      <td>45997.688487</td>\n",
       "      <td>Female</td>\n",
       "      <td>42777.850293</td>\n",
       "      <td>Majority</td>\n",
       "      <td>45997.688487</td>\n",
       "    </tr>\n",
       "    <tr>\n",
       "      <th>99</th>\n",
       "      <td>AgeB,</td>\n",
       "      <td>AgeB,</td>\n",
       "      <td>45997.688487</td>\n",
       "      <td>Female</td>\n",
       "      <td>42777.850293</td>\n",
       "      <td>Majority</td>\n",
       "      <td>45997.688487</td>\n",
       "    </tr>\n",
       "  </tbody>\n",
       "</table>\n",
       "<p>100 rows × 7 columns</p>\n",
       "</div>"
      ],
      "text/plain": [
       "      Age Education      Avg Wage  Gender  Gender Pay Gap Ethnicity  \\\n",
       "0    AgeE    Second  26417.289204  Female    24568.078960  Majority   \n",
       "1    AgeF       Deg  43174.547319  Female    40152.329007  Majority   \n",
       "2   AgeH,     AgeH,  43174.547319    Male    46196.765632  Majority   \n",
       "3    AgeA    Second  33279.675950    Male    35609.253267  Majority   \n",
       "4   AgeH,     AgeH,  33279.675950    Male    35609.253267  Majority   \n",
       "..    ...       ...           ...     ...             ...       ...   \n",
       "95   AgeI        HC  29839.127619    Male    31927.866553  Majority   \n",
       "96   AgeD    Second  19650.292525  Female    18274.772048  Majority   \n",
       "97  AgeB,     AgeB,  19650.292525  Female    18274.772048  Majority   \n",
       "98   AgeA       Deg  45997.688487  Female    42777.850293  Majority   \n",
       "99  AgeB,     AgeB,  45997.688487  Female    42777.850293  Majority   \n",
       "\n",
       "    Ethnicity Pay Gap  \n",
       "0        26417.289204  \n",
       "1        43174.547319  \n",
       "2        43174.547319  \n",
       "3        33279.675950  \n",
       "4        33279.675950  \n",
       "..                ...  \n",
       "95       29839.127619  \n",
       "96       19650.292525  \n",
       "97       19650.292525  \n",
       "98       45997.688487  \n",
       "99       45997.688487  \n",
       "\n",
       "[100 rows x 7 columns]"
      ]
     },
     "execution_count": 70,
     "metadata": {},
     "output_type": "execute_result"
    }
   ],
   "source": [
    "# Visualize the DataFrame you're working with\n",
    "df"
   ]
  },
  {
   "cell_type": "code",
   "execution_count": 71,
   "metadata": {
    "colab": {
     "base_uri": "https://localhost:8080/",
     "height": 475
    },
    "id": "bQA4xVnJWcOQ",
    "outputId": "9503051a-0e84-4923-93d7-96dd3ca2abe2"
   },
   "outputs": [
    {
     "data": {
      "text/plain": [
       "array([[<AxesSubplot:title={'center':'AgeB,'}>,\n",
       "        <AxesSubplot:title={'center':'AgeH,'}>,\n",
       "        <AxesSubplot:title={'center':'Deg'}>],\n",
       "       [<AxesSubplot:title={'center':'HC'}>,\n",
       "        <AxesSubplot:title={'center':'NoEd'}>,\n",
       "        <AxesSubplot:title={'center':'PG'}>],\n",
       "       [<AxesSubplot:title={'center':'Second'}>, <AxesSubplot:>,\n",
       "        <AxesSubplot:>]], dtype=object)"
      ]
     },
     "execution_count": 71,
     "metadata": {},
     "output_type": "execute_result"
    },
    {
     "data": {
      "image/png": "[encoded data removed]",
      "text/plain": [
       "<Figure size 432x288 with 9 Axes>"
      ]
     },
     "metadata": {
      "needs_background": "light"
     },
     "output_type": "display_data"
    }
   ],
   "source": [
    "# Histogram --> https://pandas.pydata.org/docs/reference/api/pandas.DataFrame.hist.html\n",
    "df.hist(column=['Avg Wage'], by=['Education'])"
   ]
  },
  {
   "cell_type": "code",
   "execution_count": null,
   "metadata": {},
   "outputs": [],
   "source": []
  },
  {
   "cell_type": "code",
   "execution_count": 72,
   "metadata": {},
   "outputs": [
    {
     "data": {
      "text/plain": [
       "(array([[100.,   0.,   0.,   0.,   0.,   0.,   0.,   0.,   0.,   0.],\n",
       "        [100.,   0.,   0.,   0.,   0.,   0.,   0.,   0.,   0.,   0.],\n",
       "        [  2.,  11.,  13.,  18.,  24.,   8.,  10.,  10.,   0.,   4.],\n",
       "        [100.,   0.,   0.,   0.,   0.,   0.,   0.,   0.,   0.,   0.],\n",
       "        [  2.,  12.,  14.,  17.,  21.,  11.,   9.,   5.,   8.,   1.],\n",
       "        [100.,   0.,   0.,   0.,   0.,   0.,   0.,   0.,   0.,   0.],\n",
       "        [  2.,  11.,  14.,  21.,  20.,   8.,  10.,  10.,   0.,   4.]]),\n",
       " array([0.0, 6097.660261772368, 12195.320523544737, 18292.980785317104,\n",
       "        24390.641047089473, 30488.301308861843, 36585.96157063421,\n",
       "        42683.62183240658, 48781.28209417895, 54878.942355951316,\n",
       "        60976.602617723685], dtype=object),\n",
       " <a list of 7 BarContainer objects>)"
      ]
     },
     "execution_count": 72,
     "metadata": {},
     "output_type": "execute_result"
    },
    {
     "data": {
      "image/png": "[encoded data removed]",
      "text/plain": [
       "<Figure size 432x288 with 1 Axes>"
      ]
     },
     "metadata": {
      "needs_background": "light"
     },
     "output_type": "display_data"
    }
   ],
   "source": [
    "plt.hist(df)"
   ]
  },
  {
   "cell_type": "code",
   "execution_count": 75,
   "metadata": {},
   "outputs": [
    {
     "ename": "TypeError",
     "evalue": "scatter() missing 2 required positional arguments: 'x' and 'y'",
     "output_type": "error",
     "traceback": [
      "\u001b[1;31m---------------------------------------------------------------------------\u001b[0m",
      "\u001b[1;31mTypeError\u001b[0m                                 Traceback (most recent call last)",
      "Input \u001b[1;32mIn [75]\u001b[0m, in \u001b[0;36m<cell line: 1>\u001b[1;34m()\u001b[0m\n\u001b[1;32m----> 1\u001b[0m \u001b[43mplt\u001b[49m\u001b[38;5;241;43m.\u001b[39;49m\u001b[43mscatter\u001b[49m\u001b[43m(\u001b[49m\u001b[43m)\u001b[49m\n",
      "\u001b[1;31mTypeError\u001b[0m: scatter() missing 2 required positional arguments: 'x' and 'y'"
     ]
    }
   ],
   "source": [
    "plt.scatter()"
   ]
  },
  {
   "cell_type": "code",
   "execution_count": 73,
   "metadata": {},
   "outputs": [
    {
     "data": {
      "image/png": "[encoded data removed]",
      "text/plain": [
       "<Figure size 432x288 with 9 Axes>"
      ]
     },
     "metadata": {
      "needs_background": "light"
     },
     "output_type": "display_data"
    }
   ],
   "source": [
    "# Scatter Matrix\n",
    "\n",
    "from pandas.plotting import scatter_matrix\n",
    "\n",
    "scatter_matrix(df)\n",
    "plt.show()\n"
   ]
  },
  {
   "cell_type": "code",
   "execution_count": 74,
   "metadata": {},
   "outputs": [
    {
     "data": {
      "image/png": "[encoded data removed]",
      "text/plain": [
       "<Figure size 432x288 with 2 Axes>"
      ]
     },
     "metadata": {
      "needs_background": "light"
     },
     "output_type": "display_data"
    }
   ],
   "source": [
    "# Heatmap\n",
    "\n",
    "sns.heatmap(df.corr(), annot = True)\n",
    "plt.title(\"Correlation Map\", fontsize = 20)\n",
    "plt.show()\n"
   ]
  },
  {
   "cell_type": "code",
   "execution_count": null,
   "metadata": {},
   "outputs": [],
   "source": []
  },
  {
   "cell_type": "code",
   "execution_count": null,
   "metadata": {},
   "outputs": [],
   "source": []
  }
 ],
 "metadata": {
  "colab": {
   "provenance": []
  },
  "kernelspec": {
   "display_name": "Python 3 (ipykernel)",
   "language": "python",
   "name": "python3"
  },
  "language_info": {
   "codemirror_mode": {
    "name": "ipython",
    "version": 3
   },
   "file_extension": ".py",
   "mimetype": "text/x-python",
   "name": "python",
   "nbconvert_exporter": "python",
   "pygments_lexer": "ipython3",
   "version": "3.10.2"
  }
 },
 "nbformat": 4,
 "nbformat_minor": 1
}
