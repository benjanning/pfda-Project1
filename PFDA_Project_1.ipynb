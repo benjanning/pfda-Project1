{
 "cells": [
  {
   "cell_type": "code",
   "execution_count": null,
   "id": "837e22ae",
   "metadata": {},
   "outputs": [],
   "source": []
  },
  {
   "cell_type": "markdown",
   "id": "7b673630",
   "metadata": {},
   "source": [
    "# An Investigation into the Effects of Stress on Quality of Life"
   ]
  },
  {
   "cell_type": "markdown",
   "id": "8adae176",
   "metadata": {},
   "source": [
    "## Project Outline\n",
    "\n",
    "The aim of this project is to demonstrate the effects of stress on the life expectancy of people Globally. Factors such as gender, age, exercise, underlying health conditions, cognitive function and diet will be taken into account as part of the research.  The information will be analysed and displayed using the Python functions Numpy, Pandas and Matplotlib.\n"
   ]
  },
  {
   "cell_type": "code",
   "execution_count": null,
   "id": "480e9275",
   "metadata": {},
   "outputs": [],
   "source": [
    "import math\n",
    "import statistics\n",
    "import numpy as np\n",
    "import pandas as pd\n",
    "import matplotlib.pyplot as plt\n",
    "import seaborn as sns\n",
    "import random\n",
    "\n",
    "rng = np.random.default_rng()"
   ]
  },
  {
   "cell_type": "markdown",
   "id": "c96e6323",
   "metadata": {},
   "source": [
    "Life expectancy is expected to be reduced by an average of 2.8 years, according to a study by the Finnish Institute for Health and Welfare. [1]\n",
    "\n",
    "\"High stress in both childhood and adulthood was associated with decreases in both executive function and working memory. Finally, stress across the lifespan was positively associated with the number of diagnosed mental health problems, with a stronger effect in females than in males.\" [2]\n"
   ]
  },
  {
   "cell_type": "code",
   "execution_count": null,
   "id": "eb54b8e3",
   "metadata": {},
   "outputs": [],
   "source": []
  },
  {
   "cell_type": "code",
   "execution_count": null,
   "id": "02944278",
   "metadata": {},
   "outputs": [],
   "source": []
  },
  {
   "cell_type": "code",
   "execution_count": null,
   "id": "a9fce4d2",
   "metadata": {},
   "outputs": [],
   "source": []
  },
  {
   "cell_type": "code",
   "execution_count": null,
   "id": "9418e36f",
   "metadata": {},
   "outputs": [],
   "source": []
  },
  {
   "cell_type": "markdown",
   "id": "3bca8dbb",
   "metadata": {},
   "source": [
    "## References\n",
    "\n",
    "[1]: https://www.sciencedaily.com/releases/2020/03/200311100857.htm#:~:text=Being%20under%20heavy%20stress%20shortens,expectancy%20of%20men%20and%20women.\n",
    "[2]: https://www.medrxiv.org/content/10.1101/2021.05.11.21256756v1.full\n"
   ]
  }
 ],
 "metadata": {
  "kernelspec": {
   "display_name": "Python 3 (ipykernel)",
   "language": "python",
   "name": "python3"
  },
  "language_info": {
   "codemirror_mode": {
    "name": "ipython",
    "version": 3
   },
   "file_extension": ".py",
   "mimetype": "text/x-python",
   "name": "python",
   "nbconvert_exporter": "python",
   "pygments_lexer": "ipython3",
   "version": "3.10.2"
  }
 },
 "nbformat": 4,
 "nbformat_minor": 5
}
