{
 "cells": [
  {
   "cell_type": "code",
   "execution_count": null,
   "id": "837e22ae",
   "metadata": {},
   "outputs": [],
   "source": []
  },
  {
   "cell_type": "markdown",
   "id": "7b673630",
   "metadata": {},
   "source": [
    "# An Investigation into the Effects of Stress on Quality of Life"
   ]
  },
  {
   "cell_type": "markdown",
   "id": "5d893d88",
   "metadata": {},
   "source": [
    "by Ben Janning"
   ]
  },
  {
   "cell_type": "markdown",
   "id": "8adae176",
   "metadata": {},
   "source": [
    "## Project Aim\n",
    "\n",
    "The aim of this project is to demonstrate the effects of stress on the quality of life Globally. Factors such as gender, age, exercise, underlying health conditions, cognitive function and diet will be taken into account as part of the research.  The information will be synthesized, analysed and displayed using Python functions, such as Numpy, Pandas and Matplotlib.\n"
   ]
  },
  {
   "cell_type": "markdown",
   "id": "c96e6323",
   "metadata": {},
   "source": [
    "Life expectancy is expected to be reduced by an average of 2.8 years, according to a study by the Finnish Institute for Health and Welfare. [1]\n",
    "\n",
    "\"High stress in both childhood and adulthood was associated with decreases in both executive function and working memory. Finally, stress across the lifespan was positively associated with the number of diagnosed mental health problems, with a stronger effect in females than in males.\" [2]\n"
   ]
  },
  {
   "cell_type": "markdown",
   "id": "22f0a8fd",
   "metadata": {},
   "source": [
    "## Tools for Analysis\n",
    "\n",
    "In order to investigate and display the chosen phenomenon, I have opted for the following:"
   ]
  },
  {
   "cell_type": "markdown",
   "id": "e203c78d",
   "metadata": {},
   "source": [
    "### Numpy \n",
    "\n",
    "#### Numpy.Random\n",
    "\n",
    "This function is useful for generating random samples from the data being used."
   ]
  },
  {
   "cell_type": "markdown",
   "id": "c891d5f3",
   "metadata": {},
   "source": [
    "### Matplotlib\n",
    "\n",
    "A plotting library used for visualising our data on graphs. "
   ]
  },
  {
   "cell_type": "markdown",
   "id": "7830da04",
   "metadata": {},
   "source": [
    "### Pandas\n",
    "Pandas offers data structures and operations for manipulating numerical tables"
   ]
  },
  {
   "cell_type": "markdown",
   "id": "d39c5d0c",
   "metadata": {},
   "source": [
    "### Seaborn\n",
    "Seaborn provides a high-level interface for drawing attractive and informative statistical graphics."
   ]
  },
  {
   "cell_type": "markdown",
   "id": "a9de7652",
   "metadata": {},
   "source": [
    "## Factors\n",
    "\n",
    "Factors taken into account while investigating this topic, from which we will select the most interesting variables:"
   ]
  },
  {
   "cell_type": "markdown",
   "id": "7df25dd0",
   "metadata": {},
   "source": [
    "### Gender\n",
    "How are Male and Female affected by Stress in comparison?\n",
    "\n",
    "### Age\n",
    "Are older people or younger people more easily stressed?\n",
    "\n",
    "### Exercise\n",
    "Are people who exercise more resilient to stress?\n",
    "\n",
    "### Underlying Health Conditions\n",
    "Are people with health conditions affected more by stress?\n",
    "\n",
    "### Cognitive Function\n",
    "Do people lose cognitive function at a younger age due to stress?\n",
    "\n",
    "### Diet\n",
    "Does a healthy diet help to protect from the effects of stress?\n",
    "\n",
    "### Income\n",
    "Are people living in poverty more stressed, or the wealthier?\n",
    "\n",
    "### Country\n",
    "What factors make the happiest countries? Are they less stressed?"
   ]
  },
  {
   "cell_type": "markdown",
   "id": "16046828",
   "metadata": {},
   "source": [
    "## Simulating the Data"
   ]
  },
  {
   "cell_type": "code",
   "execution_count": null,
   "id": "6419b2ee",
   "metadata": {},
   "outputs": [],
   "source": [
    "import math\n",
    "import statistics\n",
    "import numpy as np\n",
    "import pandas as pd\n",
    "import matplotlib.pyplot as plt\n",
    "import seaborn as sns\n",
    "import random\n",
    "\n",
    "rng = np.random.default_rng()"
   ]
  },
  {
   "cell_type": "code",
   "execution_count": null,
   "id": "b09605cb",
   "metadata": {},
   "outputs": [],
   "source": []
  },
  {
   "cell_type": "markdown",
   "id": "3bca8dbb",
   "metadata": {},
   "source": [
    "## References\n",
    "\n"
   ]
  },
  {
   "cell_type": "markdown",
   "id": "818075e5",
   "metadata": {},
   "source": [
    "[1]: https://www.sciencedaily.com/releases/2020/03/200311100857.htm#:~:text=Being%20under%20heavy%20stress%20shortens,expectancy%20of%20men%20and%20women.\n",
    "\n",
    "[2]: https://www.medrxiv.org/content/10.1101/2021.05.11.21256756v1.full"
   ]
  },
  {
   "cell_type": "code",
   "execution_count": null,
   "id": "e424ef65",
   "metadata": {},
   "outputs": [],
   "source": []
  }
 ],
 "metadata": {
  "kernelspec": {
   "display_name": "Python 3 (ipykernel)",
   "language": "python",
   "name": "python3"
  },
  "language_info": {
   "codemirror_mode": {
    "name": "ipython",
    "version": 3
   },
   "file_extension": ".py",
   "mimetype": "text/x-python",
   "name": "python",
   "nbconvert_exporter": "python",
   "pygments_lexer": "ipython3",
   "version": "3.10.2"
  }
 },
 "nbformat": 4,
 "nbformat_minor": 5
}
