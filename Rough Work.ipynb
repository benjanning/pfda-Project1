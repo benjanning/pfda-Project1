{
 "cells": [
  {
   "cell_type": "code",
   "execution_count": 140,
   "id": "7f4d7f18",
   "metadata": {},
   "outputs": [],
   "source": [
    "import math\n",
    "import statistics\n",
    "import numpy as np\n",
    "import pandas as pd\n",
    "import matplotlib.pyplot as plt\n",
    "import seaborn as sns\n",
    "import random\n",
    "import csv\n",
    "\n",
    "rng = np.random.default_rng()"
   ]
  },
  {
   "cell_type": "markdown",
   "id": "f7fba420",
   "metadata": {},
   "source": [
    "### Age\n",
    "\n",
    "\n",
    "I picked several ranges of ages, excluding those over 64, as people were less educated at all levels in the past in Ireland.  I also excluded those under 20, as they would not have had the opportunity yet to obtain higher levels of education.  \n",
    "\n",
    "https://www.cso.ie/en/releasesandpublications/ep/p-cp10esil/p10esil/le/"
   ]
  },
  {
   "cell_type": "code",
   "execution_count": 141,
   "id": "c7233c20",
   "metadata": {},
   "outputs": [
    {
     "data": {
      "text/plain": [
       "array(['AgeH,', 'AgeH,', 'AgeE', 'AgeF', 'AgeG', 'AgeB,', 'AgeE', 'AgeJ',\n",
       "       'AgeD', 'AgeH,', 'AgeH,', 'AgeE', 'AgeC', 'AgeB,', 'AgeH,', 'AgeF',\n",
       "       'AgeA', 'AgeH,', 'AgeE', 'AgeB,', 'AgeB,', 'AgeD', 'AgeI', 'AgeA',\n",
       "       'AgeA', 'AgeF', 'AgeF', 'AgeE', 'AgeD', 'AgeF', 'AgeG', 'AgeH,',\n",
       "       'AgeA', 'AgeB,', 'AgeH,', 'AgeF', 'AgeH,', 'AgeF', 'AgeC', 'AgeA',\n",
       "       'AgeA', 'AgeF', 'AgeJ', 'AgeE', 'AgeG', 'AgeC', 'AgeJ', 'AgeE',\n",
       "       'AgeH,', 'AgeG', 'AgeD', 'AgeI', 'AgeH,', 'AgeH,', 'AgeG', 'AgeG',\n",
       "       'AgeA', 'AgeI', 'AgeH,', 'AgeB,', 'AgeC', 'AgeF', 'AgeE', 'AgeJ',\n",
       "       'AgeE', 'AgeF', 'AgeB,', 'AgeH,', 'AgeH,', 'AgeI', 'AgeI', 'AgeD',\n",
       "       'AgeD', 'AgeC', 'AgeF', 'AgeH,', 'AgeB,', 'AgeD', 'AgeB,', 'AgeI',\n",
       "       'AgeG', 'AgeD', 'AgeI', 'AgeG', 'AgeD', 'AgeA', 'AgeA', 'AgeC',\n",
       "       'AgeH,', 'AgeI', 'AgeC', 'AgeF', 'AgeB,', 'AgeD', 'AgeD', 'AgeJ',\n",
       "       'AgeJ', 'AgeI', 'AgeD', 'AgeA'], dtype='<U5')"
      ]
     },
     "execution_count": 141,
     "metadata": {},
     "output_type": "execute_result"
    }
   ],
   "source": [
    "# Age\n",
    "\n",
    "# Print 100 Random Samples of different age brackets\n",
    "# AgeA = 20 - 24\n",
    "# AgeB = 25 - 29\n",
    "# AgeC = 30 - 34\n",
    "# AgeD = 35- 39\n",
    "# AgeE = 40 - 44\n",
    "# AgeF = 45 - 49\n",
    "# AgeG = 50 - 54\n",
    "# AgeH = 55 - 59\n",
    "# AgeI = 60 - 64\n",
    "\n",
    "\n",
    "Age = ['AgeA', 'AgeB,', 'AgeC', 'AgeD', 'AgeE', 'AgeF', 'AgeG', 'AgeH,', 'AgeI', 'AgeJ']\n",
    "rng.choice(Age, size = 100)"
   ]
  },
  {
   "cell_type": "markdown",
   "id": "3d3d6f82",
   "metadata": {},
   "source": [
    "### Education\n",
    "\n",
    "I decided on dividing the levels of education up into:  No Education, Secondary, Higher Certificate, Degree and Postgraduate.\n",
    "This was based on information from the Central Statistics Office.  \n",
    "\n",
    "https://www.cso.ie/en/releasesandpublications/ep/p-gpii/geographicalprofilesofincomeinireland2016/education/\n"
   ]
  },
  {
   "cell_type": "code",
   "execution_count": 146,
   "id": "91d87a60",
   "metadata": {},
   "outputs": [
    {
     "name": "stdout",
     "output_type": "stream",
     "text": [
      "['HC']\n",
      "['HC', 'AgeB,']\n",
      "['HC', 'AgeB,', 'HC']\n",
      "['HC', 'AgeB,', 'HC', 'Second']\n",
      "['HC', 'AgeB,', 'HC', 'Second', 'HC']\n",
      "['HC', 'AgeB,', 'HC', 'Second', 'HC', 'NoEd']\n",
      "['HC', 'AgeB,', 'HC', 'Second', 'HC', 'NoEd', 'Second']\n",
      "['HC', 'AgeB,', 'HC', 'Second', 'HC', 'NoEd', 'Second', 'AgeH,']\n",
      "['HC', 'AgeB,', 'HC', 'Second', 'HC', 'NoEd', 'Second', 'AgeH,', 'Second']\n",
      "['HC', 'AgeB,', 'HC', 'Second', 'HC', 'NoEd', 'Second', 'AgeH,', 'Second', 'NoEd']\n"
     ]
    }
   ],
   "source": [
    "# Education\n",
    "\n",
    "# Assign the percentages of each age bracket having attained education at the various levels.\n",
    "# Pick Randommly Generated Samples from each Age Bracket\n",
    "# Due to the percentages adding up to 0.9 in total for AgeA, I added 0.020 to each variable to make the probabilities usable.\n",
    "# Some of the other numbers had to be rounded by similar small fractions of percentages too. \n",
    "\n",
    "\n",
    "Education = []\n",
    "\n",
    "for i in Age:\n",
    "    if i == 'AgeA':\n",
    "        [i] = rng.choice((['NoEd', 'Second', 'HC', 'Deg', 'PG']), 1, p = (0.042, 0.552, 0.112, 0.252, 0.042))\n",
    "    \n",
    "    elif i == 'AgeB':\n",
    "        [i] = rng.choice((['NoEd', 'Second', 'HC', 'Deg', 'PG']), 1, p = (0.032, 0.382, 0.132, 0.322, 0.152))\n",
    "    \n",
    "    elif i == 'AgeC':\n",
    "        [i] = rng.choice((['NoEd', 'Second', 'HC', 'Deg', 'PG']), 1, p = (0.04, 0.35, 0.15, 0.29, 0.17))\n",
    "    \n",
    "    elif i == 'AgeD':\n",
    "        [i] = rng.choice((['NoEd', 'Second', 'HC', 'Deg', 'PG']), 1, p = (0.04, 0.37, 0.15, 0.27, 0.17))\n",
    "    \n",
    "    elif i == 'AgeE':\n",
    "        [i] = rng.choice((['NoEd', 'Second', 'HC', 'Deg', 'PG']), 1, p = (0.048, 0.418, 0.148, 0.238, 0.148))\n",
    "    \n",
    "    elif i == 'AgeF':\n",
    "        [i] = rng.choice((['NoEd', 'Second', 'HC', 'Deg', 'PG']), 1, p = (0.06, 0.49, 0.14, 0.19, 0.12))\n",
    "    \n",
    "    elif i == 'AgeG':\n",
    "        [i] = rng.choice((['NoEd', 'Second', 'HC', 'Deg', 'PG']), 1, p = (0.078, 0.528, 0.128, 0.168, 0.098))\n",
    "    \n",
    "    elif i == 'AgeH':\n",
    "        [i] = rng.choice((['NoEd', 'Second', 'HC', 'Deg', 'PG']), 1, p = (0.122, 0.542, 0.112, 0.142, 0.82))\n",
    "    \n",
    "    elif i == 'AgeI':\n",
    "        [i] = rng.choice((['NoEd', 'Second', 'HC', 'Deg', 'PG']), 1, p = (0.208, 0.508, 0.088, 0.128, 0.068))\n",
    "    \n",
    "    elif i == 'AgeJ':\n",
    "        [i] = rng.choice((['NoEd', 'Second', 'HC', 'Deg', 'PG']), 1, p = (0.33, 0.44, 0.07, 0.10, 0.06))\n",
    "        \n",
    "    Education.append(i)\n",
    "    \n",
    "    print (Education)\n",
    "    \n"
   ]
  },
  {
   "cell_type": "markdown",
   "id": "b9376c24",
   "metadata": {},
   "source": [
    "### Average Wage Based on Level of Education\n",
    "\n",
    "https://www.cso.ie/en/releasesandpublications/ep/p-gpii/geographicalprofilesofincomeinireland2016/education/\n",
    "\n",
    "I took the average male and female figures from the Central Statistics Office and got the mean of each.  \n",
    "    \n",
    "No Education - €14158\n",
    "\n",
    "Secondary (Listed as Upper Secondary in Reference) - €20154\n",
    "\n",
    "Higher Certificate  - €27568\n",
    "\n",
    "Diploma (Listed as Honours Degree in Reference) - €39370\n",
    "\n",
    "Post Graduate (Listed as MA and PHD Combined in Reference) - €55024"
   ]
  },
  {
   "cell_type": "markdown",
   "id": "3c9943fb",
   "metadata": {},
   "source": [
    "### Range\n",
    "\n",
    "Based on findings stating that salaries ranged from €734 to €477 per week (with Trinity as highest and Letterkenny IT as lowest) this shows a range variance of €14404 per year.  I decided to take this as a loose model for standard deviation of salaries in their respective groups.  Range = 1404, Standard Deviation = 7000.\n",
    "\n",
    "https://www.joe.ie/news/college-graduate-salary-ireland-2021-new-study-732019\n",
    "\n",
    "\n",
    "In doing research on the range of salaries across different levels of education, I realised that this could really come to any amount.  With people’s life situations and a multitude of various factors taken into account I made an educated guess based on the resource above to move forward with the project. I realise the limitations of the accuracy of this approach.\n"
   ]
  },
  {
   "cell_type": "code",
   "execution_count": 143,
   "id": "12f83f37",
   "metadata": {},
   "outputs": [
    {
     "name": "stdout",
     "output_type": "stream",
     "text": [
      "[array([30186.50549781])]\n",
      "[array([30186.50549781]), 1]\n",
      "[array([30186.50549781]), 1, array([33768.20297575])]\n",
      "[array([30186.50549781]), 1, array([33768.20297575]), array([44568.25142859])]\n",
      "[array([30186.50549781]), 1, array([33768.20297575]), array([44568.25142859]), array([24887.64605528])]\n",
      "[array([30186.50549781]), 1, array([33768.20297575]), array([44568.25142859]), array([24887.64605528]), array([27797.05440432])]\n",
      "[array([30186.50549781]), 1, array([33768.20297575]), array([44568.25142859]), array([24887.64605528]), array([27797.05440432]), array([28043.75711648])]\n",
      "[array([30186.50549781]), 1, array([33768.20297575]), array([44568.25142859]), array([24887.64605528]), array([27797.05440432]), array([28043.75711648]), 7]\n",
      "[array([30186.50549781]), 1, array([33768.20297575]), array([44568.25142859]), array([24887.64605528]), array([27797.05440432]), array([28043.75711648]), 7, array([16201.08228653])]\n",
      "[array([30186.50549781]), 1, array([33768.20297575]), array([44568.25142859]), array([24887.64605528]), array([27797.05440432]), array([28043.75711648]), 7, array([16201.08228653]), array([18856.41132754])]\n"
     ]
    },
    {
     "ename": "IndexError",
     "evalue": "list index out of range",
     "output_type": "error",
     "traceback": [
      "\u001b[1;31m---------------------------------------------------------------------------\u001b[0m",
      "\u001b[1;31mIndexError\u001b[0m                                Traceback (most recent call last)",
      "Input \u001b[1;32mIn [143]\u001b[0m, in \u001b[0;36m<cell line: 5>\u001b[1;34m()\u001b[0m\n\u001b[0;32m      3\u001b[0m AvEdWage \u001b[38;5;241m=\u001b[39m []\n\u001b[0;32m      5\u001b[0m \u001b[38;5;28;01mfor\u001b[39;00m i \u001b[38;5;129;01min\u001b[39;00m \u001b[38;5;28mrange\u001b[39m (\u001b[38;5;241m100\u001b[39m):\n\u001b[1;32m----> 6\u001b[0m     \u001b[38;5;28;01mif\u001b[39;00m \u001b[43mEducation\u001b[49m\u001b[43m \u001b[49m\u001b[43m[\u001b[49m\u001b[43mi\u001b[49m\u001b[43m]\u001b[49m \u001b[38;5;241m==\u001b[39m \u001b[38;5;124m'\u001b[39m\u001b[38;5;124mNoEd\u001b[39m\u001b[38;5;124m'\u001b[39m:\n\u001b[0;32m      7\u001b[0m         i \u001b[38;5;241m=\u001b[39m rng\u001b[38;5;241m.\u001b[39mnormal (\u001b[38;5;241m14158\u001b[39m, \u001b[38;5;241m7000\u001b[39m, \u001b[38;5;241m1\u001b[39m)\n\u001b[0;32m      9\u001b[0m     \u001b[38;5;28;01melif\u001b[39;00m Education [i] \u001b[38;5;241m==\u001b[39m \u001b[38;5;124m'\u001b[39m\u001b[38;5;124mSecond\u001b[39m\u001b[38;5;124m'\u001b[39m:\n",
      "\u001b[1;31mIndexError\u001b[0m: list index out of range"
     ]
    }
   ],
   "source": [
    "# Average Wage based on Education\n",
    "\n",
    "AvEdWage = []\n",
    "\n",
    "for i in range (100):\n",
    "    if Education [i] == 'NoEd':\n",
    "        i = rng.normal (14158, 7000, 1)\n",
    "        \n",
    "    elif Education [i] == 'Second':\n",
    "        i = rng.normal (20154, 7000, 1)\n",
    "        \n",
    "    elif Education [i] == 'HC':\n",
    "        i = rng.normal (27568, 7000, 1)\n",
    "        \n",
    "    elif Education [i] == 'Deg':\n",
    "        i = rng.normal (39370, 7000, 1)\n",
    "        \n",
    "    elif Education [i] == 'PG':\n",
    "        i = rng.normal (55024, 7000, 1)\n",
    "        \n",
    "    AvEdWage.append(i)\n",
    "    \n",
    "    print (AvEdWage)\n",
    "    \n",
    "    "
   ]
  },
  {
   "cell_type": "markdown",
   "id": "b02dfaa5",
   "metadata": {},
   "source": [
    "### Gender\n",
    "\n",
    "Males earn 14% more on average in Ireland. \n",
    "\n"
   ]
  },
  {
   "cell_type": "code",
   "execution_count": 147,
   "id": "d11167d1",
   "metadata": {},
   "outputs": [
    {
     "name": "stdout",
     "output_type": "stream",
     "text": [
      "[1.07, 1.07, 0.93, 0.93, 0.93, 1.07, 1.07, 1.07, 1.07, 0.93, 1.07, 0.93, 0.93, 0.93, 1.07, 1.07, 1.07, 0.93, 0.93, 1.07, 0.93, 1.07, 1.07, 1.07, 0.93, 0.93, 0.93, 0.93, 1.07, 0.93, 0.93, 1.07, 0.93, 1.07, 0.93, 1.07, 1.07, 0.93, 0.93, 1.07, 0.93, 0.93, 0.93, 0.93, 0.93, 0.93, 0.93, 0.93, 1.07, 0.93, 1.07, 1.07, 0.93, 0.93, 0.93, 0.93, 0.93, 1.07, 1.07, 0.93, 1.07, 0.93, 1.07, 0.93, 0.93, 1.07, 0.93, 1.07, 0.93, 0.93, 1.07, 0.93, 0.93, 0.93, 0.93, 0.93, 0.93, 1.07, 1.07, 0.93, 1.07, 0.93, 0.93, 0.93, 1.07, 0.93, 0.93, 0.93, 1.07, 1.07, 0.93, 0.93, 1.07, 1.07, 1.07, 0.93, 0.93, 0.93, 1.07, 0.93]\n"
     ]
    },
    {
     "data": {
      "text/plain": [
       "array(['Male', 'Male', 'Female', 'Female', 'Female', 'Male', 'Male',\n",
       "       'Male', 'Male', 'Female', 'Male', 'Female', 'Female', 'Female',\n",
       "       'Male', 'Male', 'Male', 'Female', 'Female', 'Male', 'Female',\n",
       "       'Male', 'Male', 'Male', 'Female', 'Female', 'Female', 'Female',\n",
       "       'Male', 'Female', 'Female', 'Male', 'Female', 'Male', 'Female',\n",
       "       'Male', 'Male', 'Female', 'Female', 'Male', 'Female', 'Female',\n",
       "       'Female', 'Female', 'Female', 'Female', 'Female', 'Female', 'Male',\n",
       "       'Female', 'Male', 'Male', 'Female', 'Female', 'Female', 'Female',\n",
       "       'Female', 'Male', 'Male', 'Female', 'Male', 'Female', 'Male',\n",
       "       'Female', 'Female', 'Male', 'Female', 'Male', 'Female', 'Female',\n",
       "       'Male', 'Female', 'Female', 'Female', 'Female', 'Female', 'Female',\n",
       "       'Male', 'Male', 'Female', 'Male', 'Female', 'Female', 'Female',\n",
       "       'Male', 'Female', 'Female', 'Female', 'Male', 'Male', 'Female',\n",
       "       'Female', 'Male', 'Male', 'Male', 'Female', 'Female', 'Female',\n",
       "       'Male', 'Female'], dtype='<U6')"
      ]
     },
     "execution_count": 147,
     "metadata": {},
     "output_type": "execute_result"
    }
   ],
   "source": [
    "# Average Salary by Gender in Ireland \n",
    "# Males earn 14% more on average\n",
    "# In the code I will icrease the male salaries by 7% and decrease the female salaries by 7% to re-create these figures.\n",
    "\n",
    "# Gender - Create Empty Array\n",
    "\n",
    "G = np.array(rng.choice(['Male', 'Female'], 100, p=(.50, .50)))\n",
    "genderpaygap = []\n",
    "\n",
    "# Loop the output and append to a list. Add 14% average increase to males.\n",
    "\n",
    "for i in range(100):\n",
    "    if G[i] == 'Male':\n",
    "        i = 1.07\n",
    "    else:\n",
    "        if G[i] == 'Female':\n",
    "            i = 0.93\n",
    "            \n",
    "    genderpaygap.append(i)\n",
    "            \n",
    "print(genderpaygap)\n",
    "G"
   ]
  },
  {
   "cell_type": "markdown",
   "id": "311dc852",
   "metadata": {},
   "source": [
    "### Ethnicity\n",
    "\n",
    "The mean Ethnicity Pay Gap in Ireland is - 5.07%, meaning people of an Ethnic Minority earn 5.07% less on average.\n",
    "\n",
    "https://seetec.ie/legal/ethnicity-pay-gap-report/\n",
    "\n",
    "82% of the population of Ireland is part the Ethnic Majority (White Irish) and 18% makes up the Ethnic Minorities.\n",
    "\n",
    "https://minorityrights.org/country/ireland/"
   ]
  },
  {
   "cell_type": "code",
   "execution_count": 148,
   "id": "fa622349",
   "metadata": {},
   "outputs": [
    {
     "name": "stdout",
     "output_type": "stream",
     "text": [
      "[1.07, 1.07, 0.93, 0.93, 0.93, 1.07, 1.07, 1.07, 1.07, 0.93, 1.07, 0.93, 0.93, 0.93, 1.07, 1.07, 1.07, 0.93, 0.93, 1.07, 0.93, 1.07, 1.07, 1.07, 0.93, 0.93, 0.93, 0.93, 1.07, 0.93, 0.93, 1.07, 0.93, 1.07, 0.93, 1.07, 1.07, 0.93, 0.93, 1.07, 0.93, 0.93, 0.93, 0.93, 0.93, 0.93, 0.93, 0.93, 1.07, 0.93, 1.07, 1.07, 0.93, 0.93, 0.93, 0.93, 0.93, 1.07, 1.07, 0.93, 1.07, 0.93, 1.07, 0.93, 0.93, 1.07, 0.93, 1.07, 0.93, 0.93, 1.07, 0.93, 0.93, 0.93, 0.93, 0.93, 0.93, 1.07, 1.07, 0.93, 1.07, 0.93, 0.93, 0.93, 1.07, 0.93, 0.93, 0.93, 1.07, 1.07, 0.93, 0.93, 1.07, 1.07, 1.07, 0.93, 0.93, 0.93, 1.07, 0.93, 0, 1, 2, 3, 4, 5, 6, 7, 8, 9, 10, 11, 12, 13, 14, 15, 16, 17, 18, 19, 20, 21, 22, 23, 24, 25, 26, 27, 28, 29, 30, 31, 32, 33, 34, 35, 36, 37, 38, 39, 40, 41, 42, 43, 44, 45, 46, 47, 48, 49, 50, 51, 52, 53, 54, 55, 56, 57, 58, 59, 60, 61, 62, 63, 64, 65, 66, 67, 68, 69, 70, 71, 72, 73, 74, 75, 76, 77, 78, 79, 80, 81, 82, 83, 84, 85, 86, 87, 88, 89, 90, 91, 92, 93, 94, 95, 96, 97, 98, 99]\n"
     ]
    },
    {
     "data": {
      "text/plain": [
       "array(['Majority', 'Majority', 'Majority', 'Majority', 'Majority',\n",
       "       'Majority', 'Majority', 'Majority', 'Majority', 'Majority',\n",
       "       'Majority', 'Majority', 'Minority', 'Minority', 'Majority',\n",
       "       'Majority', 'Majority', 'Minority', 'Majority', 'Majority',\n",
       "       'Majority', 'Majority', 'Majority', 'Majority', 'Majority',\n",
       "       'Majority', 'Majority', 'Majority', 'Majority', 'Majority',\n",
       "       'Majority', 'Majority', 'Majority', 'Majority', 'Majority',\n",
       "       'Majority', 'Minority', 'Majority', 'Majority', 'Minority',\n",
       "       'Majority', 'Majority', 'Majority', 'Majority', 'Majority',\n",
       "       'Majority', 'Majority', 'Majority', 'Minority', 'Majority',\n",
       "       'Majority', 'Majority', 'Majority', 'Majority', 'Majority',\n",
       "       'Majority', 'Majority', 'Majority', 'Majority', 'Majority',\n",
       "       'Majority', 'Majority', 'Majority', 'Majority', 'Majority',\n",
       "       'Minority', 'Minority', 'Minority', 'Majority', 'Majority',\n",
       "       'Majority', 'Minority', 'Majority', 'Majority', 'Majority',\n",
       "       'Majority', 'Majority', 'Minority', 'Majority', 'Majority',\n",
       "       'Majority', 'Majority', 'Majority', 'Majority', 'Majority',\n",
       "       'Majority', 'Majority', 'Majority', 'Minority', 'Majority',\n",
       "       'Minority', 'Majority', 'Majority', 'Majority', 'Majority',\n",
       "       'Majority', 'Majority', 'Majority', 'Majority', 'Majority'],\n",
       "      dtype='<U8')"
      ]
     },
     "execution_count": 148,
     "metadata": {},
     "output_type": "execute_result"
    }
   ],
   "source": [
    "# Average Salary by Ethnicity (Majority and Minority) in Ireland \n",
    "\n",
    "# Ethnicity - Create Empty Array\n",
    "\n",
    "E = np.array(rng.choice(['Majority', 'Minority'], 100, p=(.82, .18)))\n",
    "ethnicpaygap = []\n",
    "\n",
    "# Loop the output and append to a list. Take 5.07% average increase to males.\n",
    "\n",
    "for i in range(100):\n",
    "    if G[i] == 'Majority':\n",
    "        i = 1.00\n",
    "    else:\n",
    "        if G[i] == 'Minority':\n",
    "            i = 0.95\n",
    "            \n",
    "    genderpaygap.append(i)\n",
    "            \n",
    "print(genderpaygap)\n",
    "E"
   ]
  },
  {
   "cell_type": "code",
   "execution_count": null,
   "id": "787018a3",
   "metadata": {},
   "outputs": [],
   "source": []
  },
  {
   "cell_type": "code",
   "execution_count": null,
   "id": "970ac712",
   "metadata": {},
   "outputs": [],
   "source": []
  },
  {
   "cell_type": "code",
   "execution_count": null,
   "id": "4678029a",
   "metadata": {},
   "outputs": [],
   "source": []
  }
 ],
 "metadata": {
  "kernelspec": {
   "display_name": "Python 3 (ipykernel)",
   "language": "python",
   "name": "python3"
  },
  "language_info": {
   "codemirror_mode": {
    "name": "ipython",
    "version": 3
   },
   "file_extension": ".py",
   "mimetype": "text/x-python",
   "name": "python",
   "nbconvert_exporter": "python",
   "pygments_lexer": "ipython3",
   "version": "3.10.2"
  }
 },
 "nbformat": 4,
 "nbformat_minor": 5
}
